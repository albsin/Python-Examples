{
 "cells": [
  {
   "cell_type": "markdown",
   "metadata": {},
   "source": [
    "1) Convert Celsius to Kelvin\n",
    "2) Convert Celsius to Fahrenheit\n",
    "3) Convert Kelvin to Celsius\n",
    "4) Convert Kelvin to Fahrenheit\n",
    "5) Convert Fahrenheit to Celsius\n",
    "6) Convert Fahrenheit to Kelvin"
   ]
  },
  {
   "cell_type": "code",
   "execution_count": null,
   "metadata": {},
   "outputs": [],
   "source": [
    "#Celcius = 5/9*(Fahrenheit - 32)\n",
    "#Celsius = Kelvin - 273.15.\n",
    "#Die tiefste mögliche Temperatur ist den absoluten Nullpunkt "
   ]
  },
  {
   "cell_type": "code",
   "execution_count": 12,
   "metadata": {},
   "outputs": [],
   "source": [
    "def convertor(temperature, convertFrom):\n",
    "    temperature_dict = {}\n",
    "    if(convertFrom==1 or convertFrom == 2):\n",
    "        celcius = temperature\n",
    "        fahrenheit = (9 * celcius/5) + 32\n",
    "        kelvin = celcius + 273.15\n",
    "    if(convertFrom=='fahrenheit' or convertFrom == 'Fahrenheit'):\n",
    "        fahrenheit = temperature\n",
    "        celcius = 5/9*(fahrenheit - 32)\n",
    "        kelvin = celcius + 273.15\n",
    "    if(convertFrom=='kelvin' or convertFrom == 'Kelvin'):\n",
    "        kelvin = temperature\n",
    "        celcius = kelvin - 273.15\n",
    "        fahrenheit = (9 * celcius/5) + 32\n",
    "    \n",
    "    temperature_dict['Celcius'] = celcius\n",
    "    temperature_dict['Fahrenheit'] = fahrenheit\n",
    "    temperature_dict['Kelvin'] = kelvin\n",
    "    return temperature_dict\n",
    "            "
   ]
  },
  {
   "cell_type": "code",
   "execution_count": 17,
   "metadata": {},
   "outputs": [
    {
     "ename": "SyntaxError",
     "evalue": "EOL while scanning string literal (<ipython-input-17-43789b9d0d33>, line 1)",
     "output_type": "error",
     "traceback": [
      "\u001b[1;36m  File \u001b[1;32m\"<ipython-input-17-43789b9d0d33>\"\u001b[1;36m, line \u001b[1;32m1\u001b[0m\n\u001b[1;33m    print('1. Convert Celsius to Kelvin \\n\u001b[0m\n\u001b[1;37m                                           ^\u001b[0m\n\u001b[1;31mSyntaxError\u001b[0m\u001b[1;31m:\u001b[0m EOL while scanning string literal\n"
     ]
    }
   ],
   "source": [
    "print('1. Convert Celsius to Kelvin \\n \n",
    "      2. Convert Celsius to Fahrenheit \\n \n",
    "    3. Convert Kelvin to Celsius \\n \n",
    "    4. Convert Kelvin to Fahrenheit \\n\n",
    "    5. Convert Fahrenheit to Celsius \\n\n",
    "    6. Convert Fahrenheit to Kelvin ')\n",
    "try:\n",
    "      convert_from = int(input(\"Please enter the unit of conversion\"))\n",
    "except:\n",
    "      print('Please enter a valid number')\n",
    "try:\n",
    "    temp_value = float(input(\"Please enter the temperature in number\"))\n",
    "except:\n",
    "     print('Please enter  a valid number')\n",
    "if temp_value:\n",
    "    temp_list = convertor(temp_value,convert_from)\n",
    "    print(temp_list)\n",
    "else:\n",
    "    print('Please enter  a valid number')"
   ]
  },
  {
   "cell_type": "code",
   "execution_count": 15,
   "metadata": {},
   "outputs": [],
   "source": [
    "def convert_C_to_K(temp):\n",
    "    \"\"\" converts temperature in celcius to kelvin\"\"\"\n",
    "    if temp:\n",
    "        return temp + 273.15\n",
    "    return null\n",
    "\n",
    "def convert_C_to_F(temp):\n",
    "    \"\"\" converts temperature in celcius to fahrenheit\"\"\"\n",
    "    if temp:\n",
    "        return (9 * temp/5) + 32\n",
    "    return null\n",
    "\n",
    "def convert_K_to_F(temp):\n",
    "    \"\"\" converts temperature in kelvin to fahrenheit\"\"\"\n",
    "    if temp:\n",
    "        celcius = temp - 273.15\n",
    "        return (9 * celcius/5) + 32\n",
    "    return null\n",
    "\n",
    "def convert_K_to_C(temp):\n",
    "    \"\"\" converts temperature in kelvin to celcius\"\"\"\n",
    "    if temp:\n",
    "        return temp - 273.15\n",
    "    return null\n",
    "\n",
    "def convert_F_to_C(temp):\n",
    "    \"\"\" converts temperature in fahrenheit to celcius\"\"\"\n",
    "    if temp:\n",
    "        return 5/9*(temp - 32)\n",
    "    return null\n",
    "\n",
    "def convert_F_to_K(temp):\n",
    "    \"\"\" converts temperature in fahrenheit to kelvin\"\"\"\n",
    "    if temp:\n",
    "        celcius = 5/9*(temp - 32)\n",
    "        return celcius + 273.15\n",
    "    return null"
   ]
  },
  {
   "cell_type": "code",
   "execution_count": 26,
   "metadata": {},
   "outputs": [
    {
     "name": "stdout",
     "output_type": "stream",
     "text": [
      "1. Convert Celsius to Kelvin \n",
      "         2. Convert Celsius to Fahrenheit \n",
      "         3. Convert Kelvin to Celsius \n",
      "         4. Convert Kelvin to Fahrenheit \n",
      "         5. Convert Fahrenheit to Celsius \n",
      "         6. Convert Fahrenheit to Kelvin \n",
      "Please enter the unit of conversion 1\n",
      "Please enter the temperature in number 10\n",
      "10.0 C =  283.15 K\n"
     ]
    }
   ],
   "source": [
    "def print_Menu():\n",
    "    print('1. Convert Celsius to Kelvin \\n \\\n",
    "        2. Convert Celsius to Fahrenheit \\n \\\n",
    "        3. Convert Kelvin to Celsius \\n \\\n",
    "        4. Convert Kelvin to Fahrenheit \\n \\\n",
    "        5. Convert Fahrenheit to Celsius \\n \\\n",
    "        6. Convert Fahrenheit to Kelvin  \\n \\\n",
    "        7. Continue... \\n \\\n",
    "        8. Exit')\n",
    " \n",
    "def getUnit(text):\n",
    "    try:\n",
    "        return int(input(text))\n",
    "    except:\n",
    "          print('Please enter a valid number')\n",
    "          getUnit(text)\n",
    "        \n",
    "def getTemp(text):\n",
    "    try:\n",
    "        return float(input(text))\n",
    "    except:\n",
    "          print('Please enter a valid number')\n",
    "          getTemp(text)\n",
    "            \n",
    "def temperature_convertor():\n",
    "    print_Menu()\n",
    "    try:\n",
    "          convert_from = getUnit(\"Please enter the unit of conversion \")\n",
    "    except:\n",
    "          print('Please enter a valid number ')\n",
    "    try:\n",
    "        temp_value = getTemp(\"Please enter the temperature in number \")\n",
    "    except:\n",
    "         print('Please enter  a valid number ')\n",
    "    if temp_value:\n",
    "        if convert_from == 1:\n",
    "          print(temp_value,'C = ',convert_C_to_K(temp_value),'K')\n",
    "        if convert_from == 2:\n",
    "          print(temp_value,'C = ',convert_C_to_F(temp_value),'F')\n",
    "        if convert_from == 3:\n",
    "          print(temp_value,'K = ',convert_K_to_C(temp_value),'C')\n",
    "        if convert_from == 4:\n",
    "          print(temp_value,'K = ',convert_K_to_F(temp_value),'F')\n",
    "        if convert_from == 5:\n",
    "          print(temp_value,'F = ',convert_F_to_C(temp_value),'C')\n",
    "        if convert_from == 6:\n",
    "          print(temp_value,'F = ',convert_F_to_K(temp_value),'K')\n",
    "        if convert_from == 7:\n",
    "            temperature_convertor()\n",
    "        if convert_from == 8:\n",
    "            return\n",
    "    else:\n",
    "        print('Please enter  a valid number ')\n",
    "        \n",
    "temperature_convertor()\n",
    "        "
   ]
  },
  {
   "cell_type": "code",
   "execution_count": null,
   "metadata": {},
   "outputs": [],
   "source": []
  },
  {
   "cell_type": "code",
   "execution_count": null,
   "metadata": {},
   "outputs": [],
   "source": []
  }
 ],
 "metadata": {
  "kernelspec": {
   "display_name": "Python 3",
   "language": "python",
   "name": "python3"
  },
  "language_info": {
   "codemirror_mode": {
    "name": "ipython",
    "version": 3
   },
   "file_extension": ".py",
   "mimetype": "text/x-python",
   "name": "python",
   "nbconvert_exporter": "python",
   "pygments_lexer": "ipython3",
   "version": "3.7.3"
  }
 },
 "nbformat": 4,
 "nbformat_minor": 2
}
