{
 "cells": [
  {
   "cell_type": "code",
   "execution_count": 23,
   "metadata": {
    "scrolled": true
   },
   "outputs": [],
   "source": [
    "from math import pi"
   ]
  },
  {
   "cell_type": "code",
   "execution_count": 27,
   "metadata": {},
   "outputs": [
    {
     "name": "stdout",
     "output_type": "stream",
     "text": [
      "Enter the radians to be converted to degrees 0.8726646259971648\n",
      "0.8726646259971648 radians =  50 degrees 0 minutes 0 seconds\n"
     ]
    }
   ],
   "source": [
    "def rad_to_deg(radians):\n",
    "    total_degrees = radians*180/(pi)\n",
    "    minutes = (total_degrees - int(total_degrees))*60\n",
    "    sec = (minutes-int(minutes))*60\n",
    "    print(input_radians,'radians = ' , int(total_degrees) , 'degrees', int(minutes),'minutes', int(sec),'seconds' )\n",
    "    \n",
    "input_radians=float(input(\"Enter the radians to be converted to degrees \"))\n",
    "rad_to_deg(input_radians)"
   ]
  },
  {
   "cell_type": "code",
   "execution_count": 28,
   "metadata": {},
   "outputs": [
    {
     "name": "stdout",
     "output_type": "stream",
     "text": [
      "Enter the degrees to be converted to radians 50\n",
      "50.0 degrees =  0.8726646259971648  radians\n"
     ]
    }
   ],
   "source": [
    "def deg_to_rad(deg):\n",
    "    print(deg , \"degrees = \", float(deg)*pi/180, ' radians')\n",
    "    \n",
    "input_degree = float(input(\"Enter the degrees to be converted to radians \"))\n",
    "deg_to_rad(input_degree)"
   ]
  },
  {
   "cell_type": "code",
   "execution_count": 29,
   "metadata": {
    "scrolled": true
   },
   "outputs": [
    {
     "data": {
      "text/plain": [
       "'C:\\\\Users\\\\Leelavathy'"
      ]
     },
     "execution_count": 29,
     "metadata": {},
     "output_type": "execute_result"
    }
   ],
   "source": [
    "pwd"
   ]
  },
  {
   "cell_type": "code",
   "execution_count": null,
   "metadata": {},
   "outputs": [],
   "source": []
  }
 ],
 "metadata": {
  "kernelspec": {
   "display_name": "Python 3",
   "language": "python",
   "name": "python3"
  },
  "language_info": {
   "codemirror_mode": {
    "name": "ipython",
    "version": 3
   },
   "file_extension": ".py",
   "mimetype": "text/x-python",
   "name": "python",
   "nbconvert_exporter": "python",
   "pygments_lexer": "ipython3",
   "version": "3.7.3"
  }
 },
 "nbformat": 4,
 "nbformat_minor": 2
}
