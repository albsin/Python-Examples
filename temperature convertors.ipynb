{
 "cells": [
  {
   "cell_type": "markdown",
   "metadata": {},
   "source": [
    "Temperature Convertor"
   ]
  },
  {
   "cell_type": "code",
   "execution_count": 1,
   "metadata": {},
   "outputs": [],
   "source": [
    "#Celcius = 5/9*(Fahrenheit - 32)\n",
    "#Celsius = Kelvin - 273.15.\n",
    "#Die tiefste mögliche Temperatur ist den absoluten Nullpunkt "
   ]
  },
  {
   "cell_type": "code",
   "execution_count": 27,
   "metadata": {},
   "outputs": [],
   "source": [
    "def convertor(temperature, convertFrom):\n",
    "    temperature_dict = {}\n",
    "    if(convertFrom==1 ):\n",
    "        celcius = temperature\n",
    "        fahrenheit = (9 * celcius/5) + 32\n",
    "        kelvin = celcius + 273.15\n",
    "    if(convertFrom == 2):\n",
    "        fahrenheit = temperature\n",
    "        celcius = 5/9*(fahrenheit - 32)\n",
    "        kelvin = celcius + 273.15\n",
    "    if(convertFrom == 3):\n",
    "        kelvin = temperature\n",
    "        celcius = kelvin - 273.15\n",
    "        fahrenheit = (9 * celcius/5) + 32\n",
    "    \n",
    "    temperature_dict['Celcius'] = celcius\n",
    "    temperature_dict['Fahrenheit'] = fahrenheit\n",
    "    temperature_dict['Kelvin'] = kelvin\n",
    "    return temperature_dict\n",
    "            "
   ]
  },
  {
   "cell_type": "code",
   "execution_count": 30,
   "metadata": {
    "scrolled": true
   },
   "outputs": [
    {
     "name": "stdout",
     "output_type": "stream",
     "text": [
      "1. Convert from Celsius  \n",
      "     2. Convert from Kelvin \n",
      "     3. Convert from Fahrenheit  \n",
      " \n",
      "Please enter the unit of conversion  3\n",
      "Please enter the temperature in number 90\n",
      "{'Celcius': -183.14999999999998, 'Fahrenheit': -297.66999999999996, 'Kelvin': 90.0}\n"
     ]
    }
   ],
   "source": [
    "print('1. Convert from Celsius  \\n \\\n",
    "    2. Convert from Kelvin \\n \\\n",
    "    3. Convert from Fahrenheit  \\n ')\n",
    "try:\n",
    "    convert_from = int(input(\"Please enter the unit of conversion  \"))\n",
    "    if convert_from not in range (1,4):\n",
    "        print('Please enter a valid number between 1 and 3 ')\n",
    "    else:\n",
    "        temp_value = float(input(\"Please enter the temperature in number \"))\n",
    "        temp_list = convertor(temp_value,convert_from)\n",
    "        print(temp_list)\n",
    "except:\n",
    "      print('Please enter a valid number')\n",
    "\n"
   ]
  },
  {
   "cell_type": "markdown",
   "metadata": {},
   "source": [
    "1) Convert Celsius to Kelvin 2) Convert Celsius to Fahrenheit 3) Convert Kelvin to Celsius 4) Convert Kelvin to Fahrenheit 5) Convert Fahrenheit to Celsius 6) Convert Fahrenheit to Kelvin"
   ]
  },
  {
   "cell_type": "code",
   "execution_count": 5,
   "metadata": {},
   "outputs": [],
   "source": [
    "def convert_C_to_K(temp):\n",
    "    \"\"\" converts temperature in celcius to kelvin\"\"\"\n",
    "    if temp:\n",
    "        return temp + 273.15\n",
    "    return null\n",
    "\n",
    "def convert_C_to_F(temp):\n",
    "    \"\"\" converts temperature in celcius to fahrenheit\"\"\"\n",
    "    if temp:\n",
    "        return (9 * temp/5) + 32\n",
    "    return null\n",
    "\n",
    "def convert_K_to_F(temp):\n",
    "    \"\"\" converts temperature in kelvin to fahrenheit\"\"\"\n",
    "    if temp:\n",
    "        celcius = temp - 273.15\n",
    "        return (9 * celcius/5) + 32\n",
    "    return null\n",
    "\n",
    "def convert_K_to_C(temp):\n",
    "    \"\"\" converts temperature in kelvin to celcius\"\"\"\n",
    "    if temp:\n",
    "        return temp - 273.15\n",
    "    return null\n",
    "\n",
    "def convert_F_to_C(temp):\n",
    "    \"\"\" converts temperature in fahrenheit to celcius\"\"\"\n",
    "    if temp:\n",
    "        return 5/9*(temp - 32)\n",
    "    return null\n",
    "\n",
    "def convert_F_to_K(temp):\n",
    "    \"\"\" converts temperature in fahrenheit to kelvin\"\"\"\n",
    "    if temp:\n",
    "        celcius = 5/9*(temp - 32)\n",
    "        return celcius + 273.15\n",
    "    return null"
   ]
  },
  {
   "cell_type": "code",
   "execution_count": 8,
   "metadata": {},
   "outputs": [
    {
     "name": "stdout",
     "output_type": "stream",
     "text": [
      "1. Convert Celsius to Kelvin \n",
      "         2. Convert Celsius to Fahrenheit \n",
      "         3. Convert Kelvin to Celsius \n",
      "         4. Convert Kelvin to Fahrenheit \n",
      "         5. Convert Fahrenheit to Celsius \n",
      "         6. Convert Fahrenheit to Kelvin  \n",
      "         7. Continue... \n",
      "         8. Exit\n",
      "Please enter the unit of conversion 0\n",
      "Please enter a valid number\n",
      "Please enter the unit of conversion 1\n",
      "Please enter y to continue y\n",
      "1. Convert Celsius to Kelvin \n",
      "         2. Convert Celsius to Fahrenheit \n",
      "         3. Convert Kelvin to Celsius \n",
      "         4. Convert Kelvin to Fahrenheit \n",
      "         5. Convert Fahrenheit to Celsius \n",
      "         6. Convert Fahrenheit to Kelvin  \n",
      "         7. Continue... \n",
      "         8. Exit\n",
      "Please enter the unit of conversion 1\n",
      "Please enter the temperature in number 10\n",
      "10.0 C =  283.15 K\n",
      "Please enter y to continue Y\n",
      "1. Convert Celsius to Kelvin \n",
      "         2. Convert Celsius to Fahrenheit \n",
      "         3. Convert Kelvin to Celsius \n",
      "         4. Convert Kelvin to Fahrenheit \n",
      "         5. Convert Fahrenheit to Celsius \n",
      "         6. Convert Fahrenheit to Kelvin  \n",
      "         7. Continue... \n",
      "         8. Exit\n",
      "Please enter the unit of conversion 2\n",
      "Please enter the temperature in number 43\n",
      "43.0 C =  109.4 F\n",
      "Please enter y to continue s\n",
      "finished...\n"
     ]
    }
   ],
   "source": [
    "def print_Menu():\n",
    "    print('1. Convert Celsius to Kelvin \\n \\\n",
    "        2. Convert Celsius to Fahrenheit \\n \\\n",
    "        3. Convert Kelvin to Celsius \\n \\\n",
    "        4. Convert Kelvin to Fahrenheit \\n \\\n",
    "        5. Convert Fahrenheit to Celsius \\n \\\n",
    "        6. Convert Fahrenheit to Kelvin  \\n \\\n",
    "        7. Continue... \\n \\\n",
    "        8. Exit')\n",
    " \n",
    "def getUnit(text):\n",
    "    try:\n",
    "        int_value = int(input(text))\n",
    "        if int_value != 0 :\n",
    "            return int_value\n",
    "        else:\n",
    "            print('Please enter a valid number')\n",
    "            getUnit(text)\n",
    "    except:\n",
    "        print('Please enter a valid number')\n",
    "        getUnit(text) \n",
    "        \n",
    "def getTemp(text):\n",
    "    try:\n",
    "        return float(input(text))\n",
    "    except:\n",
    "          print('Please enter a valid number')\n",
    "          getTemp(text)\n",
    "            \n",
    "def temperature_convertor():\n",
    "    print_Menu()\n",
    "    try:\n",
    "        convert_from = getUnit(\"Please enter the unit of conversion \")\n",
    "        if convert_from in range(1,6):\n",
    "            temp_value = getTemp(\"Please enter the temperature in number \")\n",
    "        else:\n",
    "            if convert_from == 7:\n",
    "                temperature_convertor()\n",
    "            if convert_from == 8:\n",
    "                return\n",
    "    except:\n",
    "          print('Please enter a valid number ')\n",
    "    \n",
    "    if convert_from == 1:\n",
    "        print(temp_value,'C = ',convert_C_to_K(temp_value),'K')\n",
    "    if convert_from == 2:\n",
    "        print(temp_value,'C = ',convert_C_to_F(temp_value),'F')\n",
    "    if convert_from == 3:\n",
    "        print(temp_value,'K = ',convert_K_to_C(temp_value),'C')\n",
    "    if convert_from == 4:\n",
    "        print(temp_value,'K = ',convert_K_to_F(temp_value),'F')\n",
    "    if convert_from == 5:\n",
    "        print(temp_value,'F = ',convert_F_to_C(temp_value),'C')\n",
    "    if convert_from == 6:\n",
    "        print(temp_value,'F = ',convert_F_to_K(temp_value),'K')\n",
    "    \n",
    "    to_continue = input(\"Please enter y to continue \")\n",
    "    if to_continue == 'y' or to_continue =='Y':\n",
    "        temperature_convertor()\n",
    "    else:\n",
    "        print('finished...')\n",
    "        return\n",
    "    \n",
    "    \n",
    "        \n",
    "temperature_convertor()\n",
    "        "
   ]
  },
  {
   "cell_type": "code",
   "execution_count": null,
   "metadata": {},
   "outputs": [],
   "source": []
  },
  {
   "cell_type": "code",
   "execution_count": null,
   "metadata": {},
   "outputs": [],
   "source": []
  }
 ],
 "metadata": {
  "kernelspec": {
   "display_name": "Python 3",
   "language": "python",
   "name": "python3"
  },
  "language_info": {
   "codemirror_mode": {
    "name": "ipython",
    "version": 3
   },
   "file_extension": ".py",
   "mimetype": "text/x-python",
   "name": "python",
   "nbconvert_exporter": "python",
   "pygments_lexer": "ipython3",
   "version": "3.7.3"
  }
 },
 "nbformat": 4,
 "nbformat_minor": 2
}
