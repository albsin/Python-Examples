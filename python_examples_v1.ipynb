{
 "cells": [
  {
   "cell_type": "code",
   "execution_count": null,
   "metadata": {},
   "outputs": [],
   "source": [
    "#Example1 : Simple GUI program using tkinter which changes the text displayed upon selecting change button."
   ]
  },
  {
   "cell_type": "code",
   "execution_count": 2,
   "metadata": {},
   "outputs": [],
   "source": [
    "def button_action():\n",
    "    description_label.config(text=\"I am being changed!\")"
   ]
  },
  {
   "cell_type": "code",
   "execution_count": 3,
   "metadata": {},
   "outputs": [],
   "source": [
    "from tkinter import *\n",
    "window = Tk()\n",
    "window.title(\"I am just doing something...\")\n",
    "\n",
    "change_button = Button(window, text=\"change\", command=button_action)\n",
    "exit_button =Button(window, text=\"end\", command=window.quit)\n",
    "description_label = Label(window, text=\" I am a description: click change to change me\")\n",
    "info_label = Label(window, text = 'I am an info: to close press exit_button')\n",
    "\n",
    "description_label.pack(side=LEFT)\n",
    "change_button.pack(side=LEFT)\n",
    "info_label.pack(side=LEFT)\n",
    "exit_button.pack(side=LEFT)\n",
    "\n",
    "window.mainloop()"
   ]
  },
  {
   "cell_type": "code",
   "execution_count": null,
   "metadata": {},
   "outputs": [],
   "source": [
    "#Example 2: Read the list of inputs from terminal and sort them in ascending order"
   ]
  },
  {
   "cell_type": "code",
   "execution_count": 23,
   "metadata": {},
   "outputs": [
    {
     "name": "stdout",
     "output_type": "stream",
     "text": [
      "Please enter the list of numbers and enter q to quit \n",
      "Enter a number 4\n",
      "Enter a number 2\n",
      "Enter a number 4\n",
      "Enter a number 2\n",
      "Enter a number 1\n",
      "Enter a number \n",
      "Your list contains : [1, 2, 2, 4, 4]\n"
     ]
    }
   ],
   "source": [
    "def getInput():\n",
    "    \"\"\" Read the list of inputs from terminal and sort them in ascending order\"\"\"\n",
    "    my_list = []\n",
    "    print(\"Please enter the list of numbers \")\n",
    "    try:\n",
    "        data = input('Enter a number ')\n",
    "        while (data):\n",
    "            number = data\n",
    "            my_list.append(int(number))\n",
    "            data = input('Enter a number ')\n",
    "    except ValueError:\n",
    "        print('You entered ', data)\n",
    "        print('terminating...')\n",
    "    my_list.sort()\n",
    "    print('Your list contains :' , my_list)\n",
    "    \n",
    "getInput()"
   ]
  },
  {
   "cell_type": "code",
   "execution_count": 22,
   "metadata": {
    "scrolled": true
   },
   "outputs": [
    {
     "name": "stdout",
     "output_type": "stream",
     "text": [
      "Please enter the list of numbers seperated by comma \n",
      "Enter a list of numbers :1,3,2,4,5\n",
      "['1', '3', '2', '4', '5']\n",
      "Your list contains : [1, 2, 3, 4, 5]\n"
     ]
    }
   ],
   "source": [
    "def getInputList():\n",
    "     \"\"\" Read the list of inputs as comma seperated values from terminal and sort them in ascending order\"\"\"\n",
    "    my_list = []\n",
    "    print(\"Please enter the list of numbers seperated by comma \")\n",
    "    try:\n",
    "        data = input('Enter a list of numbers :')\n",
    "        numbers = data.split(',')\n",
    "        print(numbers)\n",
    "        for number in numbers:\n",
    "            #print('number',number)\n",
    "            my_list.append(int(number))\n",
    "            \n",
    "    except ValueError:\n",
    "        print('You entered ', data)\n",
    "        print('terminating...')\n",
    "    my_list.sort()\n",
    "    print('Your list contains :' , my_list)\n",
    "    \n",
    "getInputList()"
   ]
  },
  {
   "cell_type": "markdown",
   "metadata": {},
   "source": [
    "Example 3:\n",
    "\n",
    "Professor Ungerechtmann der Kantonsschule Unfairdorf braucht ein Programm für die Notenvergabe der Abschlussprüfung. Die Abschlussnote hängt von den folgenden Parametern ab:\n",
    "Prüfungsnote (von 1 bis 6 mit Halbpunkten);\n",
    "Augenfarbe (z.B. dunkel=1, hell=0);\n",
    "Frisur (z.B. kurze Haare=1, lange Haare=0);\n",
    "Wetter (z.B. schön=1, nicht schön=0).\n",
    "Es gilt folgendes:\n",
    "Hat der Prüfling dunkle Augen und…\n",
    "kurze Haare, so wird die Abschlussnote um 10% erhöht (d.h. Abschlussnote = Prüfungsnote + 10% Prüfungsnote).\n",
    "lange Haare, so wird die Abschlussnote um 10% reduziert.\n",
    "Hat der Prüfling helle Augen und…\n",
    "kurze Haare, so wird die Abschlussnote um 10% reduziert.\n",
    "lange Haare, so wird die Abschlussnote um 10% erhöht.\n",
    "Ist das Wetter schön, so wird die Abschlussnote um eine Einheit reduziert.\n",
    "Die Abschlussnoten müssen auf halbe Noten gerundet werden."
   ]
  },
  {
   "cell_type": "code",
   "execution_count": 1,
   "metadata": {
    "scrolled": true
   },
   "outputs": [
    {
     "name": "stdout",
     "output_type": "stream",
     "text": [
      "enter 1 for short and 0 for lang hair 1\n",
      "enter prufungs note between 1 to 6 5.5\n",
      "enter 1 for dark and 0 for light eye color 0\n",
      "enter 1 for gut and 0 for bad weather 1\n",
      "4\n"
     ]
    }
   ],
   "source": [
    "import math \n",
    "\n",
    "def abschlussnoten(frisur, prüfungsnote, augenFarbe, wetter ):\n",
    "    abschlusNote =  prüfungsnote\n",
    "    if frisur == 1 and augenFarbe == 1:\n",
    "        abschlusNote =  prüfungsnote+ 10*prüfungsnote/100\n",
    "    if frisur == 0 and augenFarbe == 1:\n",
    "        abschlusNote = prüfungsnote - 10*prüfungsnote/100\n",
    "    if frisur == 1 and augenFarbe == 0:\n",
    "        abschlusNote = prüfungsnote - 10*prüfungsnote/100\n",
    "    if frisur == 0 and augenFarbe == 1:\n",
    "        abschlusNote =  prüfungsnote + 10*prüfungsnote/100\n",
    "    if wetter == 1:\n",
    "        abschlusNote =  prüfungsnote - 1\n",
    "    return round(abschlusNote)\n",
    "\n",
    "def readFrisur():\n",
    "    try:\n",
    "        frisur = int(input('enter 1 for short and 0 for lang hair '))\n",
    "        if frisur not in range (0,2) :\n",
    "            print('wrong input. Please enter 1 for short and 0 for lang hair')\n",
    "            readFrisur()\n",
    "        else:\n",
    "            return frisur\n",
    "    except ValueError:\n",
    "        print('wrong input. Please enter 1 for short and 0 for lang hair')\n",
    "        readFrisur()\n",
    "\n",
    "def readAugenFarbe():\n",
    "    try:\n",
    "        augenFarbe = int(input('enter 1 for dark and 0 for light eye color '))\n",
    "        if augenFarbe not in range (0,2) :\n",
    "            print('wrong input. Enter 1 for dark and 0 for light eye color')\n",
    "            readAugenFarbe()\n",
    "        else:\n",
    "            return augenFarbe\n",
    "    except ValueError:\n",
    "        print('wrong input. Please enter 1 for dark and 0 for light eye color')\n",
    "        readAugenFarbe()\n",
    "        \n",
    "def readWetter():\n",
    "    try:\n",
    "        wetter = int(input('enter 1 for gut and 0 for bad weather '))\n",
    "        if wetter  not in range (0,2) :\n",
    "            print('wrong input. Enter 1 for gut and 0 for bad weather')\n",
    "            readWetter()\n",
    "        else:\n",
    "            return wetter\n",
    "    except ValueError:\n",
    "        print('wrong input. Please enter 1 for gut and 0 for bad weather')\n",
    "        readWetter()\n",
    "\n",
    "def readPrüfungsnote():\n",
    "    try:\n",
    "        note = float(input('enter prufungs note between 1 to 6 '))\n",
    "        if note not in range (0,7) and ((note*10) % 5 != 0) :\n",
    "            print('wrong input. ')\n",
    "            readPrüfungsnote()\n",
    "        else:\n",
    "            return note\n",
    "    except ValueError:\n",
    "        print('wrong input. enter prufungs note between 1 to 6')\n",
    "        readPrüfungsnote()\n",
    "        \n",
    "print(abschlussnoten(readFrisur(), readPrüfungsnote(), readAugenFarbe(), readWetter()))\n"
   ]
  },
  {
   "cell_type": "markdown",
   "metadata": {},
   "source": [
    "#Example 4:\n",
    "10.1.8. Flache Steuern\n",
    "Vorkenntnisse: Kapitel 1 bis 5.\n",
    "Der Steueramtchef von Flächenland stellt dich an, um ein einfaches Programm in Python zu schreiben. Dieses Programm soll den Steuersatz jedes Steuerzahlers berechnen. Die Eingabeparameter sind:\n",
    "Vorname und Nachname des Steuerzahlers\n",
    "Einkommen (in Dublonen, die Währung von Flächenland)\n",
    "Die Ausgabe soll von folgender Form sein:\n",
    "Der Steuerzahler Vorname Nachname muss für das laufende Jahr X Dublonen dem Steueramt bezahlen.\n",
    "Der Steuersatz wird gemäss folgender Tabelle bestimmt:\n",
    "\n",
    "ref:https://pythonbuch.com/aufgabensammlung.html"
   ]
  },
  {
   "cell_type": "code",
   "execution_count": null,
   "metadata": {},
   "outputs": [],
   "source": []
  }
 ],
 "metadata": {
  "kernelspec": {
   "display_name": "Python 3",
   "language": "python",
   "name": "python3"
  },
  "language_info": {
   "codemirror_mode": {
    "name": "ipython",
    "version": 3
   },
   "file_extension": ".py",
   "mimetype": "text/x-python",
   "name": "python",
   "nbconvert_exporter": "python",
   "pygments_lexer": "ipython3",
   "version": "3.7.3"
  }
 },
 "nbformat": 4,
 "nbformat_minor": 2
}
